{
 "cells": [
  {
   "cell_type": "code",
   "execution_count": 7,
   "id": "0e4e317e",
   "metadata": {},
   "outputs": [
    {
     "data": {
      "application/vnd.jupyter.widget-view+json": {
       "model_id": "c6f2e6e1b37f4149a5fb645a82c63573",
       "version_major": 2,
       "version_minor": 0
      },
      "text/plain": [
       "CSV chunks: 0it [00:00, ?it/s]"
      ]
     },
     "metadata": {},
     "output_type": "display_data"
    },
    {
     "name": "stderr",
     "output_type": "stream",
     "text": [
      "c:\\Users\\qhaskovec\\AppData\\Local\\anaconda3\\Lib\\site-packages\\numpy\\core\\fromnumeric.py:59: FutureWarning: 'DataFrame.swapaxes' is deprecated and will be removed in a future version. Please use 'DataFrame.transpose' instead.\n",
      "  return bound(*args, **kwds)\n"
     ]
    },
    {
     "data": {
      "application/vnd.jupyter.widget-view+json": {
       "model_id": "f93dda3076034854b22e6b5b74bf17f2",
       "version_major": 2,
       "version_minor": 0
      },
      "text/plain": [
       "  0%|          | 0/758 [00:00<?, ?it/s]"
      ]
     },
     "metadata": {},
     "output_type": "display_data"
    },
    {
     "data": {
      "application/vnd.jupyter.widget-view+json": {
       "model_id": "96ac1cd0ccc94f6ba59897121659b34c",
       "version_major": 2,
       "version_minor": 0
      },
      "text/plain": [
       "  0%|          | 0/758 [00:00<?, ?it/s]"
      ]
     },
     "metadata": {},
     "output_type": "display_data"
    },
    {
     "data": {
      "application/vnd.jupyter.widget-view+json": {
       "model_id": "0dd78a63a03048618c86ff6c5a66fa54",
       "version_major": 2,
       "version_minor": 0
      },
      "text/plain": [
       "  0%|          | 0/758 [00:00<?, ?it/s]"
      ]
     },
     "metadata": {},
     "output_type": "display_data"
    },
    {
     "name": "stderr",
     "output_type": "stream",
     "text": [
      "Task exception was never retrieved\n",
      "future: <Task finished name='Task-85' coro=<_process_csv_async() done, defined at c:\\Users\\qhaskovec\\OneDrive\\GitHub\\1. Pre-Processing\\Cleaning\\parallel_llama_df_analysis.py:252> exception=TypeError(\"_to_json() missing 1 required positional argument: 'json_fields'\")>\n",
      "Traceback (most recent call last):\n",
      "  File \"c:\\Users\\qhaskovec\\AppData\\Local\\anaconda3\\Lib\\asyncio\\tasks.py\", line 279, in __step\n",
      "    result = coro.throw(exc)\n",
      "             ^^^^^^^^^^^^^^^\n",
      "  File \"c:\\Users\\qhaskovec\\OneDrive\\GitHub\\1. Pre-Processing\\Cleaning\\parallel_llama_df_analysis.py\", line 275, in _process_csv_async\n",
      "    parts = np.array_split(chunk, workers)\n",
      "                    ^^^^^^^^^^^^^^^^^^^^^^\n",
      "  File \"c:\\Users\\qhaskovec\\AppData\\Local\\anaconda3\\Lib\\asyncio\\tasks.py\", line 349, in __wakeup\n",
      "    future.result()\n",
      "  File \"c:\\Users\\qhaskovec\\AppData\\Local\\anaconda3\\Lib\\asyncio\\tasks.py\", line 279, in __step\n",
      "    result = coro.throw(exc)\n",
      "             ^^^^^^^^^^^^^^^\n",
      "  File \"c:\\Users\\qhaskovec\\OneDrive\\GitHub\\1. Pre-Processing\\Cleaning\\parallel_llama_df_analysis.py\", line 243, in _process_subchunk\n",
      "    if len(buf_tasks) == batch_size:\n",
      "                        ^^^^^^^^^^^^^\n",
      "  File \"c:\\Users\\qhaskovec\\OneDrive\\GitHub\\1. Pre-Processing\\Cleaning\\parallel_llama_df_analysis.py\", line 196, in _flush\n",
      "    for key, col in col_map.items():\n",
      "                                    ^\n",
      "  File \"c:\\Users\\qhaskovec\\AppData\\Local\\anaconda3\\Lib\\asyncio\\tasks.py\", line 349, in __wakeup\n",
      "    future.result()\n",
      "  File \"c:\\Users\\qhaskovec\\AppData\\Local\\anaconda3\\Lib\\asyncio\\tasks.py\", line 277, in __step\n",
      "    result = coro.send(None)\n",
      "             ^^^^^^^^^^^^^^^\n",
      "  File \"c:\\Users\\qhaskovec\\OneDrive\\GitHub\\1. Pre-Processing\\Cleaning\\parallel_llama_df_analysis.py\", line 190, in _infer_json\n",
      "    return _to_json(raw, json_fields)\n",
      "           ^^^^^^^^^^^^^\n",
      "TypeError: _to_json() missing 1 required positional argument: 'json_fields'\n"
     ]
    },
    {
     "name": "stdout",
     "output_type": "stream",
     "text": [
      "✔ chunk 2 saved — rows: 2,274, filled: 4,820\n",
      "✅ All chunks processed. Output written to out.csv\n"
     ]
    }
   ],
   "source": [
    "import importlib, parallel_llama_df_analysis as pl\n",
    "importlib.reload(pl)   # ensure the new code is loaded\n",
    "\n",
    "from parallel_llama_df_analysis import fill_missing_fields_from_csv\n",
    "\n",
    "\n",
    "fill_missing_fields_from_csv(\n",
    "    input_csv=\"Germany.csv\",\n",
    "    output_csv=\"out.csv\",\n",
    "    title_col = \"title_en\",\n",
    "    json_fields=(\"Occasion\", \"City\", \"Institution\"),\n",
    "    col_map={\"Occasion\": \"computed_occasion\", \"Institution\": \"computed_institution\", \"City\": \"computed_location\"},\n",
    "    chunk_size=10_000,\n",
    "    workers=3,\n",
    "    batch_size=4,\n",
    ")\n"
   ]
  }
 ],
 "metadata": {
  "kernelspec": {
   "display_name": "base",
   "language": "python",
   "name": "python3"
  },
  "language_info": {
   "codemirror_mode": {
    "name": "ipython",
    "version": 3
   },
   "file_extension": ".py",
   "mimetype": "text/x-python",
   "name": "python",
   "nbconvert_exporter": "python",
   "pygments_lexer": "ipython3",
   "version": "3.11.7"
  }
 },
 "nbformat": 4,
 "nbformat_minor": 5
}
